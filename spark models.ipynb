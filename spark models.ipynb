{
 "cells": [
  {
   "cell_type": "markdown",
   "metadata": {},
   "source": [
    "# Evaluating Credit Card Fraud on Streamed Data with Spark "
   ]
  },
  {
   "cell_type": "markdown",
   "metadata": {},
   "source": [
    "Spark Setup"
   ]
  },
  {
   "cell_type": "code",
   "execution_count": 1,
   "metadata": {},
   "outputs": [],
   "source": [
    "import findspark\n",
    "findspark.init()\n",
    "findspark.find()\n",
    "import pyspark\n",
    "findspark.find()\n",
    "\n",
    "from pyspark import SparkContext, SparkConf\n",
    "from pyspark.sql import SparkSession\n",
    "conf = pyspark.SparkConf().setAppName('appName').setMaster('local')\n",
    "\n",
    "# The SparkContext is the entry point to the Spark runtime\n",
    "# SUPER IMPORTANT! DOES NOT WORK WITHOUT IT!\n",
    "sc = pyspark.SparkContext(conf=conf)\n",
    "\n",
    "# Start a Spark session to be closed at the end of the notebook\n",
    "spark = SparkSession(sc)"
   ]
  },
  {
   "cell_type": "markdown",
   "metadata": {},
   "source": [
    "Data Import, Cleaning, and Transformation"
   ]
  },
  {
   "cell_type": "code",
   "execution_count": 2,
   "metadata": {},
   "outputs": [],
   "source": [
    "# Imports\n",
    "from pyspark.ml.linalg import Vectors\n",
    "from pyspark.ml import Pipeline\n",
    "from pyspark.sql import Row\n",
    "from pyspark.ml.feature import StringIndexer, VectorAssembler\n",
    "from pyspark.ml.classification import DecisionTreeClassifier\n",
    "from pyspark.ml.classification import LogisticRegression\n",
    "from pyspark.ml.evaluation import BinaryClassificationEvaluator\n",
    "from pyspark.ml.feature import HashingTF, Tokenizer\n",
    "from pyspark.ml.tuning import CrossValidator, ParamGridBuilder, TrainValidationSplit"
   ]
  },
  {
   "cell_type": "code",
   "execution_count": 3,
   "metadata": {},
   "outputs": [
    {
     "data": {
      "text/plain": [
       "DataFrame[Time: decimal(10,0), V1: double, V2: double, V3: double, V4: double, V5: double, V6: double, V7: double, V8: double, V9: double, V10: double, V11: double, V12: double, V13: double, V14: double, V15: double, V16: double, V17: double, V18: double, V19: double, V20: double, V21: double, V22: double, V23: double, V24: double, V25: double, V26: double, V27: double, V28: double, Amount: double, Class: int]"
      ]
     },
     "metadata": {},
     "output_type": "display_data"
    }
   ],
   "source": [
    "# Read in csv data into spark \n",
    "data = spark.read.format('csv').options(header='true', inferSchema='true').load(\n",
    "    'creditcard.csv')\n",
    "#Confirm the data has been loaded\n",
    "display(data)"
   ]
  },
  {
   "cell_type": "code",
   "execution_count": 4,
   "metadata": {},
   "outputs": [
    {
     "name": "stdout",
     "output_type": "stream",
     "text": [
      "root\n",
      " |-- Time: decimal(10,0) (nullable = true)\n",
      " |-- V1: double (nullable = true)\n",
      " |-- V2: double (nullable = true)\n",
      " |-- V3: double (nullable = true)\n",
      " |-- V4: double (nullable = true)\n",
      " |-- V5: double (nullable = true)\n",
      " |-- V6: double (nullable = true)\n",
      " |-- V7: double (nullable = true)\n",
      " |-- V8: double (nullable = true)\n",
      " |-- V9: double (nullable = true)\n",
      " |-- V10: double (nullable = true)\n",
      " |-- V11: double (nullable = true)\n",
      " |-- V12: double (nullable = true)\n",
      " |-- V13: double (nullable = true)\n",
      " |-- V14: double (nullable = true)\n",
      " |-- V15: double (nullable = true)\n",
      " |-- V16: double (nullable = true)\n",
      " |-- V17: double (nullable = true)\n",
      " |-- V18: double (nullable = true)\n",
      " |-- V19: double (nullable = true)\n",
      " |-- V20: double (nullable = true)\n",
      " |-- V21: double (nullable = true)\n",
      " |-- V22: double (nullable = true)\n",
      " |-- V23: double (nullable = true)\n",
      " |-- V24: double (nullable = true)\n",
      " |-- V25: double (nullable = true)\n",
      " |-- V26: double (nullable = true)\n",
      " |-- V27: double (nullable = true)\n",
      " |-- V28: double (nullable = true)\n",
      " |-- Amount: double (nullable = true)\n",
      " |-- Class: integer (nullable = true)\n",
      "\n"
     ]
    }
   ],
   "source": [
    "# Glance at the data's schema: columns and their datatypes\n",
    "data.printSchema()"
   ]
  },
  {
   "cell_type": "code",
   "execution_count": 5,
   "metadata": {},
   "outputs": [],
   "source": [
    "# Drop the time column \n",
    "data = data.drop('Time')"
   ]
  },
  {
   "cell_type": "code",
   "execution_count": 6,
   "metadata": {},
   "outputs": [],
   "source": [
    "# Rename the target variable to ease future labelCol assignments in model building with SparkMLlib\n",
    "data = data.withColumnRenamed('Class', 'label')"
   ]
  },
  {
   "cell_type": "code",
   "execution_count": 7,
   "metadata": {},
   "outputs": [
    {
     "data": {
      "text/plain": [
       "<matplotlib.axes._subplots.AxesSubplot at 0x2adf0075fc8>"
      ]
     },
     "execution_count": 7,
     "metadata": {},
     "output_type": "execute_result"
    },
    {
     "data": {
      "image/png": "[encoded data removed]",
      "text/plain": [
       "<Figure size 864x720 with 1 Axes>"
      ]
     },
     "metadata": {
      "needs_background": "light"
     },
     "output_type": "display_data"
    }
   ],
   "source": [
    "# Plot the distribution of the target variable by converting the Spark DataFrame into Pandas DataFrame \n",
    "import matplotlib.pyplot as plt \n",
    "import seaborn as sns\n",
    "%matplotlib inline\n",
    "data_pd = data.toPandas()\n",
    "plt.figure(figsize=(12, 10))\n",
    "purple = ['#d4b6f6', '#8c3ee6']\n",
    "sns.countplot(x='label', data=data_pd, order=data_pd['label'].value_counts().index, palette=purple)"
   ]
  },
  {
   "cell_type": "code",
   "execution_count": 8,
   "metadata": {},
   "outputs": [
    {
     "data": {
      "text/html": [
       "<div>\n",
       "<style scoped>\n",
       "    .dataframe tbody tr th:only-of-type {\n",
       "        vertical-align: middle;\n",
       "    }\n",
       "\n",
       "    .dataframe tbody tr th {\n",
       "        vertical-align: top;\n",
       "    }\n",
       "\n",
       "    .dataframe thead th {\n",
       "        text-align: right;\n",
       "    }\n",
       "</style>\n",
       "<table border=\"1\" class=\"dataframe\">\n",
       "  <thead>\n",
       "    <tr style=\"text-align: right;\">\n",
       "      <th></th>\n",
       "      <th>label</th>\n",
       "      <th>count</th>\n",
       "    </tr>\n",
       "  </thead>\n",
       "  <tbody>\n",
       "    <tr>\n",
       "      <th>0</th>\n",
       "      <td>1</td>\n",
       "      <td>492</td>\n",
       "    </tr>\n",
       "    <tr>\n",
       "      <th>1</th>\n",
       "      <td>0</td>\n",
       "      <td>284315</td>\n",
       "    </tr>\n",
       "  </tbody>\n",
       "</table>\n",
       "</div>"
      ],
      "text/plain": [
       "   label   count\n",
       "0      1     492\n",
       "1      0  284315"
      ]
     },
     "execution_count": 8,
     "metadata": {},
     "output_type": "execute_result"
    }
   ],
   "source": [
    "# Calculate the instances in each class for the target variable; Dataset is clearly very unbalalanced\n",
    "data.groupby('label').count().toPandas()"
   ]
  },
  {
   "cell_type": "code",
   "execution_count": 9,
   "metadata": {},
   "outputs": [
    {
     "data": {
      "text/plain": [
       "1825"
      ]
     },
     "execution_count": 9,
     "metadata": {},
     "output_type": "execute_result"
    }
   ],
   "source": [
    "# Count transactions where the monetary value is less than 0\n",
    "data.filter(data['Amount'] <= 0).count()"
   ]
  },
  {
   "cell_type": "code",
   "execution_count": 10,
   "metadata": {},
   "outputs": [],
   "source": [
    "# Only keep transactions with actual transaction value ('Amount')\n",
    "data2 = data.filter(data['Amount'] > 0)\n",
    "data2_pd = data2.toPandas()"
   ]
  },
  {
   "cell_type": "code",
   "execution_count": 11,
   "metadata": {},
   "outputs": [
    {
     "name": "stdout",
     "output_type": "stream",
     "text": [
      "284807 30\n",
      "282982 30\n"
     ]
    }
   ],
   "source": [
    "# Confirm the instances have been dropped\n",
    "print(data.count(), len(data.columns))\n",
    "print(data2.count(), len(data2.columns))"
   ]
  },
  {
   "cell_type": "code",
   "execution_count": 12,
   "metadata": {},
   "outputs": [
    {
     "data": {
      "text/plain": [
       "<matplotlib.axes._subplots.AxesSubplot at 0x2adf1f53088>"
      ]
     },
     "execution_count": 12,
     "metadata": {},
     "output_type": "execute_result"
    },
    {
     "data": {
      "image/png": "[encoded data removed]",
      "text/plain": [
       "<Figure size 864x576 with 1 Axes>"
      ]
     },
     "metadata": {
      "needs_background": "light"
     },
     "output_type": "display_data"
    }
   ],
   "source": [
    "# Plot distribution of monetary value attached to non-fraud transactions \n",
    "plt.figure(figsize=(12,8))\n",
    "sns.distplot(data2_pd[data2_pd['label'] == 0]['Amount'], kde=False)"
   ]
  },
  {
   "cell_type": "code",
   "execution_count": 13,
   "metadata": {},
   "outputs": [
    {
     "data": {
      "text/plain": [
       "<matplotlib.axes._subplots.AxesSubplot at 0x2adf79466c8>"
      ]
     },
     "execution_count": 13,
     "metadata": {},
     "output_type": "execute_result"
    },
    {
     "data": {
      "image/png": "[encoded data removed]",
      "text/plain": [
       "<Figure size 864x576 with 1 Axes>"
      ]
     },
     "metadata": {
      "needs_background": "light"
     },
     "output_type": "display_data"
    }
   ],
   "source": [
    "# Plot the distribution of monetary value attached to fraud transactions \n",
    "plt.figure(figsize=(12,8))\n",
    "sns.distplot(data2_pd[data2_pd['label'] == 1]['Amount'], kde=False)"
   ]
  },
  {
   "cell_type": "code",
   "execution_count": 14,
   "metadata": {},
   "outputs": [
    {
     "name": "stdout",
     "output_type": "stream",
     "text": [
      "+-------+------------------+\n",
      "|summary|            Amount|\n",
      "+-------+------------------+\n",
      "|  count|            282517|\n",
      "|   mean|  88.8529258062013|\n",
      "| stddev|250.80017900647618|\n",
      "|    min|              0.01|\n",
      "|    max|          25691.16|\n",
      "+-------+------------------+\n",
      "\n"
     ]
    }
   ],
   "source": [
    "# Look at descriptive statistics for non-fraud \n",
    "data2.filter(data['label'] == 0).describe('Amount').show()"
   ]
  },
  {
   "cell_type": "code",
   "execution_count": 15,
   "metadata": {},
   "outputs": [
    {
     "name": "stdout",
     "output_type": "stream",
     "text": [
      "+-------+------------------+\n",
      "|summary|            Amount|\n",
      "+-------+------------------+\n",
      "|  count|               465|\n",
      "|   mean|129.30746236559136|\n",
      "| stddev|262.29878118844374|\n",
      "|    min|              0.01|\n",
      "|    max|           2125.87|\n",
      "+-------+------------------+\n",
      "\n"
     ]
    }
   ],
   "source": [
    "# Look at descriptive statistics for fraud \n",
    "data2.filter(data['label'] == 1).describe('Amount').show()"
   ]
  },
  {
   "cell_type": "code",
   "execution_count": 16,
   "metadata": {},
   "outputs": [],
   "source": [
    "# Separate non-fraud (majority class) and fraud (minority class) to downsample and upsample respectively\n",
    "data2_majority = data2.filter(data['label'] == 0)\n",
    "data2_minority = data2.filter(data['label'] == 1)"
   ]
  },
  {
   "cell_type": "code",
   "execution_count": 17,
   "metadata": {},
   "outputs": [
    {
     "name": "stdout",
     "output_type": "stream",
     "text": [
      "141452\n"
     ]
    }
   ],
   "source": [
    "# Set the seed to ensure reproducibility \n",
    "seed = 42\n",
    "\n",
    "# Downsample the majority class to 50% of original dataset size \n",
    "data2_downsample = data2_majority.sample(True, 0.5, seed=seed)\n",
    "print(data2_downsample.count())"
   ]
  },
  {
   "cell_type": "code",
   "execution_count": 18,
   "metadata": {},
   "outputs": [
    {
     "name": "stdout",
     "output_type": "stream",
     "text": [
      "141317\n"
     ]
    }
   ],
   "source": [
    "# Upsample the minority class to equal the downsampled majority class \n",
    "data2_upsample = data2_minority.sample(True, (data2_downsample.count() / data2_minority.count()), seed=seed)\n",
    "print(data2_upsample.count())"
   ]
  },
  {
   "cell_type": "code",
   "execution_count": 19,
   "metadata": {},
   "outputs": [
    {
     "name": "stdout",
     "output_type": "stream",
     "text": [
      "88.57349121965463 258.5098814157115\n",
      "864.1031354667891\n"
     ]
    }
   ],
   "source": [
    "from pyspark.sql.functions import mean as _mean, stddev as _stddev, col\n",
    "\n",
    "# Calculate the mean and stddev for non-fraud\n",
    "data_stats_downsample = data2_downsample.select(\n",
    "                                _mean(col('Amount')).alias('mean'),\n",
    "                                _stddev(col('Amount')).alias('std')\n",
    "                                ).collect()\n",
    "\n",
    "mean_downsample = data_stats_downsample[0]['mean']\n",
    "std_downsample = data_stats_downsample[0]['std']\n",
    "\n",
    "print(mean_downsample , std_downsample)\n",
    "\n",
    "# Calculate outlier threshold as mean + 3 * stddev\n",
    "outliers_downsample = mean_downsample + (3 * std_downsample)\n",
    "print(outliers_downsample)"
   ]
  },
  {
   "cell_type": "code",
   "execution_count": 20,
   "metadata": {},
   "outputs": [
    {
     "data": {
      "text/plain": [
       "1906"
      ]
     },
     "execution_count": 20,
     "metadata": {},
     "output_type": "execute_result"
    }
   ],
   "source": [
    "# Number of instances above the outlier threshold for non-fraud\n",
    "data2_downsample.filter(data2_majority['Amount'] > outliers_downsample).count()"
   ]
  },
  {
   "cell_type": "code",
   "execution_count": 21,
   "metadata": {},
   "outputs": [
    {
     "name": "stdout",
     "output_type": "stream",
     "text": [
      "130.10425766183468 265.57539795950044\n",
      "926.8304515403361\n"
     ]
    }
   ],
   "source": [
    "# Calculate the mean and stddev for fraud\n",
    "data_stats_upsample = data2_upsample.select(\n",
    "    _mean(col('Amount')).alias('mean'),\n",
    "    _stddev(col('Amount')).alias('std')\n",
    ").collect()\n",
    "\n",
    "mean_upsample = data_stats_upsample[0]['mean']\n",
    "std_upsample = data_stats_upsample[0]['std']\n",
    "\n",
    "print(mean_upsample , std_upsample)\n",
    "\n",
    "# Calculate outlier threshold as mean + 3 * stddev\n",
    "outliers_upsample = mean_upsample + (3 * std_upsample)\n",
    "print(outliers_upsample)"
   ]
  },
  {
   "cell_type": "code",
   "execution_count": 22,
   "metadata": {},
   "outputs": [
    {
     "data": {
      "text/plain": [
       "3169"
      ]
     },
     "execution_count": 22,
     "metadata": {},
     "output_type": "execute_result"
    }
   ],
   "source": [
    "# Number of instances above the outlier threshold for fraud\n",
    "data2_upsample.filter(data2_upsample['Amount'] > outliers_upsample).count()"
   ]
  },
  {
   "cell_type": "code",
   "execution_count": 23,
   "metadata": {},
   "outputs": [],
   "source": [
    "# Despite identifying potential outliers, because the data is primarily the results of PCA, we do not have enough context\n",
    "# to rule out any transactions, and the descriptive statistics do not show any instances where the Amount is unreasonable\n",
    "# for a credit card transaction\n",
    "\n",
    "# Join together the downsampled and upsampled data\n",
    "data3 = data2_downsample.unionAll(data2_upsample)"
   ]
  },
  {
   "cell_type": "code",
   "execution_count": 24,
   "metadata": {},
   "outputs": [
    {
     "data": {
      "text/plain": [
       "282769"
      ]
     },
     "execution_count": 24,
     "metadata": {},
     "output_type": "execute_result"
    }
   ],
   "source": [
    "# Size of new dataset\n",
    "data3.count()"
   ]
  },
  {
   "cell_type": "code",
   "execution_count": 25,
   "metadata": {},
   "outputs": [
    {
     "data": {
      "text/plain": [
       "<matplotlib.axes._subplots.AxesSubplot at 0x2ade3358548>"
      ]
     },
     "execution_count": 25,
     "metadata": {},
     "output_type": "execute_result"
    },
    {
     "data": {
      "image/png": "[encoded data removed]",
      "text/plain": [
       "<Figure size 864x720 with 1 Axes>"
      ]
     },
     "metadata": {
      "needs_background": "light"
     },
     "output_type": "display_data"
    }
   ],
   "source": [
    "# Plot distribution of resampled dataset target variable to confirm data is balanced\n",
    "data3_pd = data3.toPandas()\n",
    "plt.figure(figsize=(12, 10))\n",
    "purple = ['#d4b6f6', '#8c3ee6']\n",
    "sns.countplot(x='label', data=data3_pd, order=data3_pd['label'].value_counts().index, palette=purple)"
   ]
  },
  {
   "cell_type": "code",
   "execution_count": 26,
   "metadata": {},
   "outputs": [],
   "source": [
    "from pyspark.sql.functions import rand\n",
    "\n",
    "# Shuffle the data \n",
    "data3 = data3.orderBy(rand(seed=seed))"
   ]
  },
  {
   "cell_type": "markdown",
   "metadata": {},
   "source": [
    "Modeling"
   ]
  },
  {
   "cell_type": "code",
   "execution_count": 27,
   "metadata": {},
   "outputs": [],
   "source": [
    "# Randomly separate the data into train and test sets for modeling \n",
    "train, test = data3.randomSplit([0.8, 0.2], seed=seed)"
   ]
  },
  {
   "cell_type": "code",
   "execution_count": 28,
   "metadata": {},
   "outputs": [],
   "source": [
    "# Save the test data in an external distributed parquet directory for later streaming \n",
    "test.write.parquet('test.parquet')"
   ]
  },
  {
   "cell_type": "code",
   "execution_count": 29,
   "metadata": {},
   "outputs": [],
   "source": [
    "# Randomly split the train data into train and validation for modeling \n",
    "train, validation = train.randomSplit([0.8, 0.2], seed=seed)"
   ]
  },
  {
   "cell_type": "markdown",
   "metadata": {},
   "source": [
    "Logistic Regression"
   ]
  },
  {
   "cell_type": "code",
   "execution_count": 31,
   "metadata": {},
   "outputs": [],
   "source": [
    "# Build the pipeline for our LogisticRegression model\n",
    "# Vectorize the features to be used for the model\n",
    "va = VectorAssembler(inputCols=train.columns[:29], outputCol='features')\n",
    "lr = LogisticRegression()\n",
    "pl = Pipeline(stages=[va, lr])"
   ]
  },
  {
   "cell_type": "code",
   "execution_count": 32,
   "metadata": {},
   "outputs": [],
   "source": [
    "# Specify model parameters to tune  \n",
    "paramGrid_lr = ParamGridBuilder().addGrid(lr.regParam, [0.1, 0.01]).addGrid(lr.maxIter, [10, 100]).build()"
   ]
  },
  {
   "cell_type": "code",
   "execution_count": 33,
   "metadata": {},
   "outputs": [],
   "source": [
    "# Run 5-fold cross validation using the pipeline as the estimator, estimatorParamMaps as the parameters to optimize\n",
    "# and evaluator as BinaryClassification Evaluator\n",
    "cv_lr = CrossValidator(estimator=pl,\n",
    "                          estimatorParamMaps=paramGrid_lr,\n",
    "                          evaluator=BinaryClassificationEvaluator(),\n",
    "                          numFolds=5,\n",
    "                          seed=seed)"
   ]
  },
  {
   "cell_type": "code",
   "execution_count": 34,
   "metadata": {},
   "outputs": [],
   "source": [
    "# Fit the model on the train data\n",
    "cvModel_lr = cv_lr.fit(train)"
   ]
  },
  {
   "cell_type": "code",
   "execution_count": 35,
   "metadata": {},
   "outputs": [
    {
     "name": "stdout",
     "output_type": "stream",
     "text": [
      "Optimal Regularization Parameter:  0.01\n",
      "Optimal Iteration Parameter:  10\n"
     ]
    }
   ],
   "source": [
    "# Print the values of the optimized parameters \n",
    "print('Optimal Regularization Parameter: ', cvModel_lr.bestModel.stages[-1]._java_obj.getRegParam())\n",
    "print('Optimal Iteration Parameter: ', cvModel_lr.bestModel.stages[-1]._java_obj.getMaxIter())"
   ]
  },
  {
   "cell_type": "code",
   "execution_count": 36,
   "metadata": {},
   "outputs": [
    {
     "name": "stdout",
     "output_type": "stream",
     "text": [
      "False positive rate by label:\n",
      "label 0: 0.11230639693337174\n",
      "label 1: 0.011690171881886294\n",
      "\n",
      "True positive rate by label:\n",
      "label 0: 0.9883098281181137\n",
      "label 1: 0.8876936030666283\n",
      "\n",
      "Precision by label:\n",
      "label 0: 0.8984634801073761\n",
      "label 1: 0.986931244303205\n",
      "\n",
      "Recall by label:\n",
      "label 0: 0.9883098281181137\n",
      "label 1: 0.8876936030666283\n",
      "\n",
      "F-measure by label:\n",
      "label 0: 0.9412474553505845\n",
      "label 1: 0.93468573561663\n",
      "\n",
      "Accuracy: 0.9381401155660638\n",
      "FPR: 0.06213668438132183\n",
      "TPR: 0.9381401155660638\n",
      "F-measure: 0.9379756212827575\n",
      "Precision: 0.9425756727239858\n",
      "Recall: 0.9381401155660638\n"
     ]
    }
   ],
   "source": [
    "# Print evaluation metrics for the selected logistic regression model on the training data\n",
    "trainingSummary_lr = cvModel_lr.bestModel.stages[-1].summary\n",
    "\n",
    "# for multiclass, we can inspect metrics on a per-label basis\n",
    "print(\"False positive rate by label:\")\n",
    "for i, rate in enumerate(trainingSummary_lr.falsePositiveRateByLabel):\n",
    "    print(\"label %d: %s\" % (i, rate))\n",
    "\n",
    "print(\"\\nTrue positive rate by label:\")\n",
    "for i, rate in enumerate(trainingSummary_lr.truePositiveRateByLabel):\n",
    "    print(\"label %d: %s\" % (i, rate))\n",
    "\n",
    "print(\"\\nPrecision by label:\")\n",
    "for i, prec in enumerate(trainingSummary_lr.precisionByLabel):\n",
    "    print(\"label %d: %s\" % (i, prec))\n",
    "\n",
    "print(\"\\nRecall by label:\")\n",
    "for i, rec in enumerate(trainingSummary_lr.recallByLabel):\n",
    "    print(\"label %d: %s\" % (i, rec))\n",
    "\n",
    "print(\"\\nF-measure by label:\")\n",
    "for i, f in enumerate(trainingSummary_lr.fMeasureByLabel()):\n",
    "    print(\"label %d: %s\" % (i, f))\n",
    "\n",
    "accuracy_lr = trainingSummary_lr.accuracy\n",
    "falsePositiveRate_lr = trainingSummary_lr.weightedFalsePositiveRate\n",
    "truePositiveRate_lr = trainingSummary_lr.weightedTruePositiveRate\n",
    "fMeasure_lr = trainingSummary_lr.weightedFMeasure()\n",
    "precision_lr = trainingSummary_lr.weightedPrecision\n",
    "recall_lr = trainingSummary_lr.weightedRecall\n",
    "print(\"\\nAccuracy: %s\\nFPR: %s\\nTPR: %s\\nF-measure: %s\\nPrecision: %s\\nRecall: %s\"\n",
    "      % (accuracy_lr, falsePositiveRate_lr, truePositiveRate_lr, fMeasure_lr, precision_lr, recall_lr))"
   ]
  },
  {
   "cell_type": "code",
   "execution_count": 37,
   "metadata": {},
   "outputs": [
    {
     "data": {
      "image/png": "[encoded data removed]",
      "text/plain": [
       "<Figure size 432x288 with 1 Axes>"
      ]
     },
     "metadata": {
      "needs_background": "light"
     },
     "output_type": "display_data"
    },
    {
     "name": "stdout",
     "output_type": "stream",
     "text": [
      "Training set ROC: 0.981786366140881\n"
     ]
    }
   ],
   "source": [
    "# Plot the ROC curve for the logistic regression model on the training data\n",
    "roc_lr = trainingSummary_lr.roc.toPandas()\n",
    "plt.plot(roc_lr['FPR'],roc_lr['TPR'])\n",
    "plt.ylabel('False Positive Rate')\n",
    "plt.xlabel('True Positive Rate')\n",
    "plt.title('ROC Curve')\n",
    "plt.show()\n",
    "\n",
    "print('Training set ROC: ' + str(trainingSummary_lr.areaUnderROC))"
   ]
  },
  {
   "cell_type": "code",
   "execution_count": 38,
   "metadata": {},
   "outputs": [],
   "source": [
    "# Generate logistic regression predictions on validation dataset\n",
    "pred_lr = cvModel_lr.transform(validation)"
   ]
  },
  {
   "cell_type": "code",
   "execution_count": 39,
   "metadata": {},
   "outputs": [],
   "source": [
    "from pyspark.ml.evaluation import MulticlassClassificationEvaluator\n",
    "\n",
    "# Create both evaluators to generate multiple evaluation metrics\n",
    "evaluator = MulticlassClassificationEvaluator()\n",
    "evaluator_bin = BinaryClassificationEvaluator()"
   ]
  },
  {
   "cell_type": "code",
   "execution_count": 40,
   "metadata": {},
   "outputs": [
    {
     "name": "stdout",
     "output_type": "stream",
     "text": [
      "Test_SET Accuracy: 0.9355066702005478\n",
      "Test_SET Precision: 0.9403181546019669\n",
      "Test_SET Recall: 0.9355066702005478\n",
      "Test_SET f1 score: 0.935346375013639\n",
      "Test_SET Area Under ROC: 0.9827235642327962\n"
     ]
    }
   ],
   "source": [
    "# Print performance metrics for the logistic regression model on the validation dataset\n",
    "print(\"Test_SET Accuracy: \" + str(evaluator.evaluate(pred_lr, {evaluator.metricName: \"accuracy\"})))\n",
    "print(\"Test_SET Precision: \" + str(evaluator.evaluate(pred_lr, {evaluator.metricName: \"weightedPrecision\"})))\n",
    "print(\"Test_SET Recall: \" + str(evaluator.evaluate(pred_lr, {evaluator.metricName: \"weightedRecall\"})))\n",
    "print(\"Test_SET f1 score: \" + str(evaluator.evaluate(pred_lr, {evaluator.metricName: \"f1\"})))\n",
    "print(\"Test_SET Area Under ROC: \" + str(evaluator_bin.evaluate(pred_lr, {evaluator.metricName: \"areaUnderROC\"})))"
   ]
  },
  {
   "cell_type": "markdown",
   "metadata": {},
   "source": [
    "Decision Tree"
   ]
  },
  {
   "cell_type": "code",
   "execution_count": 41,
   "metadata": {},
   "outputs": [],
   "source": [
    "# Create DecisionTree model to add to a pipeline\n",
    "clf = DecisionTreeClassifier(seed=seed)"
   ]
  },
  {
   "cell_type": "code",
   "execution_count": 42,
   "metadata": {},
   "outputs": [],
   "source": [
    "# Create pipeline for decision tree model\n",
    "pl_clf = Pipeline(stages=[va, clf])"
   ]
  },
  {
   "cell_type": "code",
   "execution_count": 43,
   "metadata": {},
   "outputs": [],
   "source": [
    "# Specify model parameters to tune \n",
    "paramGrid_clf = ParamGridBuilder().addGrid(clf.maxDepth, [5, 6, 7, 8]) \\\n",
    "                                  .addGrid(clf.minInstancesPerNode, [1, 2, 3, 4]) \\\n",
    "                                  .addGrid(clf.minInfoGain, [0, 0.01, 0.1]) \\\n",
    "                                  .build()"
   ]
  },
  {
   "cell_type": "code",
   "execution_count": 44,
   "metadata": {},
   "outputs": [],
   "source": [
    "# Run 5-fold cross validation using the pipeline as the estimator, estimatorParamMaps as the parameters to optimize\n",
    "# and evaluator as BinaryClassification Evaluator\n",
    "crossval_clf = CrossValidator(estimator=pl_clf,\n",
    "                          estimatorParamMaps=paramGrid_clf,\n",
    "                          evaluator=BinaryClassificationEvaluator(),\n",
    "                          numFolds=5,\n",
    "                          seed=seed)"
   ]
  },
  {
   "cell_type": "code",
   "execution_count": 45,
   "metadata": {},
   "outputs": [],
   "source": [
    "# Fit the model on the train data\n",
    "cvModel_clf = crossval_clf.fit(train)"
   ]
  },
  {
   "cell_type": "code",
   "execution_count": 46,
   "metadata": {},
   "outputs": [
    {
     "name": "stdout",
     "output_type": "stream",
     "text": [
      "Optimal Maximum Depth Parameter:  8\n",
      "Optimal Minimum Instances Per Node Parameter:  3\n",
      "Optimal Minimum Info Gain Parameter:  0.0\n"
     ]
    }
   ],
   "source": [
    "# Print values of optimized parameters\n",
    "print('Optimal Maximum Depth Parameter: ', cvModel_clf.bestModel.stages[-1]._java_obj.getMaxDepth())\n",
    "print('Optimal Minimum Instances Per Node Parameter: ', cvModel_clf.bestModel.stages[-1]._java_obj.getMinInstancesPerNode())\n",
    "print('Optimal Minimum Info Gain Parameter: ', cvModel_clf.bestModel.stages[-1]._java_obj.getMinInfoGain())"
   ]
  },
  {
   "cell_type": "code",
   "execution_count": 47,
   "metadata": {},
   "outputs": [],
   "source": [
    "# Generate decision tree predictions on validation dataset\n",
    "pred_clf = cvModel_clf.transform(validation)"
   ]
  },
  {
   "cell_type": "code",
   "execution_count": 48,
   "metadata": {},
   "outputs": [
    {
     "name": "stdout",
     "output_type": "stream",
     "text": [
      "Test_SET Accuracy: 0.9800777453838678\n",
      "Test_SET Precision: 0.9801246971237785\n",
      "Test_SET Recall: 0.9800777453838678\n",
      "Test_SET f1 score: 0.9800767964540148\n",
      "Test_SET Area Under ROC: 0.9469851026044167\n"
     ]
    }
   ],
   "source": [
    "# Print performance metrics for decision tree model on validation dataset\n",
    "print(\"Test_SET Accuracy: \" + str(evaluator.evaluate(pred_clf, {evaluator.metricName: \"accuracy\"})))\n",
    "print(\"Test_SET Precision: \" + str(evaluator.evaluate(pred_clf, {evaluator.metricName: \"weightedPrecision\"})))\n",
    "print(\"Test_SET Recall: \" + str(evaluator.evaluate(pred_clf, {evaluator.metricName: \"weightedRecall\"})))\n",
    "print(\"Test_SET f1 score: \" + str(evaluator.evaluate(pred_clf, {evaluator.metricName: \"f1\"})))\n",
    "print(\"Test_SET Area Under ROC: \" + str(evaluator_bin.evaluate(pred_clf, {evaluator.metricName: \"areaUnderROC\"})))"
   ]
  },
  {
   "cell_type": "markdown",
   "metadata": {},
   "source": [
    "Random Forest"
   ]
  },
  {
   "cell_type": "code",
   "execution_count": 49,
   "metadata": {},
   "outputs": [
    {
     "name": "stdout",
     "output_type": "stream",
     "text": [
      "Optimal Maximum Depth Parameter:  8\n",
      "Optimal Minimum Instances Per Node Parameter:  3\n",
      "Optimal Number of Trees Parameter:  40\n",
      "Test_SET Accuracy: 0.9763009099743793\n",
      "Test_SET Precision: 0.9772459201316042\n",
      "Test_SET Recall: 0.9763009099743793\n",
      "Test_SET f1 score: 0.9762916236535949\n",
      "Test_SET Area Under ROC: 0.9972646139659306\n"
     ]
    }
   ],
   "source": [
    "from pyspark.ml.classification import RandomForestClassifier\n",
    "\n",
    "# Random Forest Classifier\n",
    "\n",
    "# Repeat the process of building the model, selecting parameters to be tuned, running cross validation, fitting the model\n",
    "# getting values for optimized parameters, generating predictions, and printing performance metrics\n",
    "\n",
    "rf = RandomForestClassifier(seed=seed)\n",
    "\n",
    "pl_rf = Pipeline(stages=[va, rf])\n",
    "\n",
    "paramGrid_rf = ParamGridBuilder().addGrid(rf.maxDepth, [5, 6, 7, 8]) \\\n",
    "                                  .addGrid(rf.minInstancesPerNode, [1, 2, 3, 4]) \\\n",
    "                                  .addGrid(rf.numTrees, [20, 40, 60]) \\\n",
    "                                  .build()\n",
    "\n",
    "crossval_rf = CrossValidator(estimator=pl_rf,\n",
    "                          estimatorParamMaps=paramGrid_rf,\n",
    "                          evaluator=BinaryClassificationEvaluator(),\n",
    "                          numFolds=5,\n",
    "                          seed=seed)\n",
    "\n",
    "cvModel_rf = crossval_rf.fit(train)\n",
    "\n",
    "print('Optimal Maximum Depth Parameter: ', cvModel_rf.bestModel.stages[-1]._java_obj.getMaxDepth())\n",
    "print('Optimal Minimum Instances Per Node Parameter: ', cvModel_rf.bestModel.stages[-1]._java_obj.getMinInstancesPerNode())\n",
    "print('Optimal Number of Trees Parameter: ', cvModel_rf.bestModel.stages[-1]._java_obj.getNumTrees())\n",
    "\n",
    "pred_rf = cvModel_rf.transform(validation)\n",
    "\n",
    "print(\"Test_SET Accuracy: \" + str(evaluator.evaluate(pred_rf, {evaluator.metricName: \"accuracy\"})))\n",
    "print(\"Test_SET Precision: \" + str(evaluator.evaluate(pred_rf, {evaluator.metricName: \"weightedPrecision\"})))\n",
    "print(\"Test_SET Recall: \" + str(evaluator.evaluate(pred_rf, {evaluator.metricName: \"weightedRecall\"})))\n",
    "print(\"Test_SET f1 score: \" + str(evaluator.evaluate(pred_rf, {evaluator.metricName: \"f1\"})))\n",
    "print(\"Test_SET Area Under ROC: \" + str(evaluator_bin.evaluate(pred_rf, {evaluator.metricName: \"areaUnderROC\"})))"
   ]
  },
  {
   "cell_type": "markdown",
   "metadata": {},
   "source": [
    "Gradient Boosted Trees"
   ]
  },
  {
   "cell_type": "code",
   "execution_count": 50,
   "metadata": {},
   "outputs": [
    {
     "name": "stdout",
     "output_type": "stream",
     "text": [
      "Optimal Maximum Depth Parameter:  8\n",
      "Optimal Minimum Instances Per Node Parameter:  4\n",
      "Optimal Step Size Parameter:  20\n",
      "Test_SET Accuracy: 0.9980784521600848\n",
      "Test_SET Precision: 0.9980857753886669\n",
      "Test_SET Recall: 0.9980784521600847\n",
      "Test_SET f1 score: 0.9980784282643627\n",
      "Test_SET Area Under ROC: 0.9999154074728525\n"
     ]
    }
   ],
   "source": [
    "from pyspark.ml.classification import GBTClassifier\n",
    "\n",
    "# Gradient Boosted Tree Classifier\n",
    "\n",
    "# Repeat the process of building the model, selecting parameters to be tuned, running cross validation, fitting the model\n",
    "# getting values for optimized parameters, generating predictions, and printing performance metrics\n",
    "\n",
    "gbt = GBTClassifier(seed=seed)\n",
    "\n",
    "pl_gbt = Pipeline(stages=[va, gbt])\n",
    "\n",
    "paramGrid_gbt = ParamGridBuilder().addGrid(gbt.maxDepth, [5, 6, 7, 8]) \\\n",
    "                                  .addGrid(gbt.minInstancesPerNode, [1, 2, 3, 4]) \\\n",
    "                                  .addGrid(gbt.stepSize, [0.01, 0.05, 0.1]) \\\n",
    "                                  .build()\n",
    "\n",
    "crossval_gbt = CrossValidator(estimator=pl_gbt,\n",
    "                          estimatorParamMaps=paramGrid_gbt,\n",
    "                          evaluator=BinaryClassificationEvaluator(),\n",
    "                          numFolds=5,\n",
    "                          seed=seed)\n",
    "\n",
    "cvModel_gbt = crossval_gbt.fit(train)\n",
    "\n",
    "print('Optimal Maximum Depth Parameter: ', cvModel_gbt.bestModel.stages[-1]._java_obj.getMaxDepth())\n",
    "print('Optimal Minimum Instances Per Node Parameter: ', cvModel_gbt.bestModel.stages[-1]._java_obj.getMinInstancesPerNode())\n",
    "print('Optimal Step Size Parameter: ', cvModel_gbt.bestModel.stages[-1]._java_obj.getNumTrees())\n",
    "\n",
    "pred_gbt = cvModel_gbt.transform(validation)\n",
    "\n",
    "print(\"Test_SET Accuracy: \" + str(evaluator.evaluate(pred_gbt, {evaluator.metricName: \"accuracy\"})))\n",
    "print(\"Test_SET Precision: \" + str(evaluator.evaluate(pred_gbt, {evaluator.metricName: \"weightedPrecision\"})))\n",
    "print(\"Test_SET Recall: \" + str(evaluator.evaluate(pred_gbt, {evaluator.metricName: \"weightedRecall\"})))\n",
    "print(\"Test_SET f1 score: \" + str(evaluator.evaluate(pred_gbt, {evaluator.metricName: \"f1\"})))\n",
    "print(\"Test_SET Area Under ROC: \" + str(evaluator_bin.evaluate(pred_gbt, {evaluator.metricName: \"areaUnderROC\"})))"
   ]
  },
  {
   "cell_type": "code",
   "execution_count": 51,
   "metadata": {},
   "outputs": [],
   "source": [
    "# Save model externally to later load up and evaluate data stream\n",
    "cvModel_gbt.bestModel.stages[-1].write().overwrite().save('model')"
   ]
  },
  {
   "cell_type": "markdown",
   "metadata": {},
   "source": [
    "Data Streaming and model implementation"
   ]
  },
  {
   "cell_type": "code",
   "execution_count": 52,
   "metadata": {},
   "outputs": [],
   "source": [
    "from pyspark.sql.types import IntegerType, DoubleType, StructType, StructField\n",
    "\n",
    "# Specify the schema of the streamed data, spark can infer it, but this way it ensures no faults occur\n",
    "schema = StructType([StructField('V1', DoubleType(), True),\n",
    "                    StructField('V2', DoubleType(), True),\n",
    "                    StructField('V3', DoubleType(), True),\n",
    "                    StructField('V4', DoubleType(), True),\n",
    "                    StructField('V5', DoubleType(), True),\n",
    "                    StructField('V6', DoubleType(), True),\n",
    "                    StructField('V7', DoubleType(), True),\n",
    "                    StructField('V8', DoubleType(), True),\n",
    "                    StructField('V9', DoubleType(), True),\n",
    "                    StructField('V10', DoubleType(), True),\n",
    "                    StructField('V11', DoubleType(), True),\n",
    "                    StructField('V12', DoubleType(), True),\n",
    "                    StructField('V13', DoubleType(), True),\n",
    "                    StructField('V14', DoubleType(), True),\n",
    "                    StructField('V15', DoubleType(), True),\n",
    "                    StructField('V16', DoubleType(), True),\n",
    "                    StructField('V17', DoubleType(), True),\n",
    "                    StructField('V18', DoubleType(), True),\n",
    "                    StructField('V19', DoubleType(), True),\n",
    "                    StructField('V20', DoubleType(), True),\n",
    "                    StructField('V21', DoubleType(), True),\n",
    "                    StructField('V22', DoubleType(), True),\n",
    "                    StructField('V23', DoubleType(), True),\n",
    "                    StructField('V24', DoubleType(), True),\n",
    "                    StructField('V25', DoubleType(), True),\n",
    "                    StructField('V26', DoubleType(), True),\n",
    "                    StructField('V27', DoubleType(), True),\n",
    "                    StructField('V28', DoubleType(), True),\n",
    "                    StructField('Amount', DoubleType(), True),\n",
    "                    StructField('label', IntegerType(), True)])"
   ]
  },
  {
   "cell_type": "code",
   "execution_count": 53,
   "metadata": {},
   "outputs": [],
   "source": [
    "from pyspark.sql.streaming import DataStreamReader\n",
    "\n",
    "# Read in the data from the parquet file using the defined schema and only one file at a time to simulate streaming\n",
    "test_data = spark.readStream.schema(schema).option('maxFilesPerTrigger', 1).parquet('test.parquet')"
   ]
  },
  {
   "cell_type": "code",
   "execution_count": 54,
   "metadata": {},
   "outputs": [
    {
     "data": {
      "text/plain": [
       "True"
      ]
     },
     "execution_count": 54,
     "metadata": {},
     "output_type": "execute_result"
    }
   ],
   "source": [
    "# Confirm the data is ready for streaming\n",
    "test_data.isStreaming"
   ]
  },
  {
   "cell_type": "code",
   "execution_count": 57,
   "metadata": {},
   "outputs": [],
   "source": [
    "from pyspark.ml.classification import GBTClassificationModel\n",
    "\n",
    "# Load in the best performing model previously saved\n",
    "stream_model = GBTClassificationModel.load('model')"
   ]
  },
  {
   "cell_type": "code",
   "execution_count": 58,
   "metadata": {},
   "outputs": [],
   "source": [
    "# Create a vector assembler and apply transformation on data stream\n",
    "assembler = VectorAssembler(inputCols=test_data.columns[:29], outputCol='features')\n",
    "va_test = assembler.transform(test_data)"
   ]
  },
  {
   "cell_type": "code",
   "execution_count": 59,
   "metadata": {},
   "outputs": [],
   "source": [
    "# Apply model to data stream to generate predictions\n",
    "stream_test = stream_model.transform(va_test)"
   ]
  },
  {
   "cell_type": "code",
   "execution_count": 60,
   "metadata": {
    "scrolled": true
   },
   "outputs": [
    {
     "data": {
      "text/plain": [
       "DataFrame[V1: double, V2: double, V3: double, V4: double, V5: double, V6: double, V7: double, V8: double, V9: double, V10: double, V11: double, V12: double, V13: double, V14: double, V15: double, V16: double, V17: double, V18: double, V19: double, V20: double, V21: double, V22: double, V23: double, V24: double, V25: double, V26: double, V27: double, V28: double, Amount: double, label: int, features: vector, rawPrediction: vector, probability: vector, prediction: double]"
      ]
     },
     "metadata": {},
     "output_type": "display_data"
    }
   ],
   "source": [
    "# Confirm predictions have been generated\n",
    "display(stream_test)"
   ]
  },
  {
   "cell_type": "code",
   "execution_count": 61,
   "metadata": {},
   "outputs": [],
   "source": [
    "# Use spark.sql to generate queries\n",
    "results = stream_test.select('label', 'prediction')\n",
    "\n",
    "# Query is specified to be stored on memory and append results as they are streamed and processed\n",
    "query = results.writeStream.outputMode('append').format('memory').queryName('counts').start()"
   ]
  },
  {
   "cell_type": "code",
   "execution_count": 62,
   "metadata": {},
   "outputs": [
    {
     "name": "stdout",
     "output_type": "stream",
     "text": [
      "+-------+---+-----+\n",
      "|     TP| FN|Total|\n",
      "+-------+---+-----+\n",
      "|28314.0|0.0|28314|\n",
      "+-------+---+-----+\n",
      "\n",
      "+-----+-------+-----+\n",
      "|   FP|     TN|Total|\n",
      "+-----+-------+-----+\n",
      "|111.0|28046.0|28157|\n",
      "+-----+-------+-----+\n",
      "\n"
     ]
    }
   ],
   "source": [
    "from time import sleep\n",
    "\n",
    "# Slightly delay query so data can be streamed in\n",
    "sleep(3)\n",
    "\n",
    "# Two sql queries to calculate the TP, FN and FP, TN generated from the model and data stream\n",
    "spark.sql(\"select sum(prediction) as TP, count(*)-sum(prediction) as FN, count(*) as Total from counts where label == 1\").show()\n",
    "spark.sql(\"select sum(prediction) as FP, count(*)-sum(prediction) as TN, count(*) as Total from counts where label == 0\").show()"
   ]
  },
  {
   "cell_type": "code",
   "execution_count": 63,
   "metadata": {},
   "outputs": [
    {
     "name": "stdout",
     "output_type": "stream",
     "text": [
      "{'message': 'Waiting for data to arrive', 'isDataAvailable': False, 'isTriggerActive': False}\n"
     ]
    }
   ],
   "source": [
    "# Confirm the data has completely streamed in\n",
    "print(query.status)\n",
    "\n",
    "# Stop the query, otherwise no other query can be run\n",
    "query.stop()"
   ]
  },
  {
   "cell_type": "code",
   "execution_count": 64,
   "metadata": {},
   "outputs": [
    {
     "name": "stdout",
     "output_type": "stream",
     "text": [
      "Accuracy: 0.9980343893325778\n",
      "Precision: 0.9960949868073878\n",
      "Recall: 1.0\n",
      "F-Measure: 0.9980436736636176\n"
     ]
    }
   ],
   "source": [
    "tp = 28314.0\n",
    "fp = 111.0\n",
    "fn = 0.0\n",
    "tn = 28046.0\n",
    "\n",
    "#Calculate performance metrics for the test data predictions\n",
    "accuracy = (tp+tn)/(tp+fp+fn+tn)\n",
    "precision = (tp)/(tp+fp)\n",
    "recall = (tp)/(tp+fn)\n",
    "f1 = (2 * precision * recall) / (precision + recall)\n",
    "print('Accuracy: ' + str(accuracy))\n",
    "print('Precision: ' + str(precision))\n",
    "print('Recall: ' + str(recall))\n",
    "print('F-Measure: ' + str(f1))"
   ]
  },
  {
   "cell_type": "markdown",
   "metadata": {},
   "source": [
    "Stop spark (required)"
   ]
  },
  {
   "cell_type": "code",
   "execution_count": 65,
   "metadata": {},
   "outputs": [],
   "source": [
    "# Close the spark connection \n",
    "sc.stop()"
   ]
  }
 ],
 "metadata": {
  "kernelspec": {
   "display_name": "Python 3",
   "language": "python",
   "name": "python3"
  },
  "language_info": {
   "codemirror_mode": {
    "name": "ipython",
    "version": 3
   },
   "file_extension": ".py",
   "mimetype": "text/x-python",
   "name": "python",
   "nbconvert_exporter": "python",
   "pygments_lexer": "ipython3",
   "version": "3.7.6"
  }
 },
 "nbformat": 4,
 "nbformat_minor": 4
}
